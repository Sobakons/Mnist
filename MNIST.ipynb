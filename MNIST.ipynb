{
  "cells": [
    {
      "cell_type": "markdown",
      "metadata": {
        "id": "view-in-github",
        "colab_type": "text"
      },
      "source": [
        "<a href=\"https://colab.research.google.com/github/Sobakons/Mnist/blob/main/MNIST.ipynb\" target=\"_parent\"><img src=\"https://colab.research.google.com/assets/colab-badge.svg\" alt=\"Open In Colab\"/></a>"
      ]
    },
    {
      "cell_type": "code",
      "execution_count": null,
      "metadata": {
        "id": "glfEqq0Hv4Nc"
      },
      "outputs": [],
      "source": [
        "import torch\n",
        "import torchvision\n",
        "import torch.nn as nn\n",
        "import torch.optim as optim\n",
        "from torchsummary import summary\n",
        "import torch.nn.functional as F\n",
        "\n",
        "import matplotlib.pyplot as plt"
      ]
    },
    {
      "cell_type": "code",
      "execution_count": null,
      "metadata": {
        "id": "uvuvxvUxwT42"
      },
      "outputs": [],
      "source": [
        "# Загружаем набор данных MNIST\n",
        "train_dataset = torchvision.datasets.MNIST(root='./data',  train=True, transform=torchvision.transforms.ToTensor(), download=True)\n",
        "test_dataset = torchvision.datasets.MNIST(root='./data', train=False, transform=torchvision.transforms.ToTensor(), download=True)"
      ]
    },
    {
      "cell_type": "code",
      "execution_count": null,
      "metadata": {
        "id": "8UiT6UqXwkWa"
      },
      "outputs": [],
      "source": [
        "class Classifier(nn.Module):\n",
        "    def __init__(self):\n",
        "        super().__init__()\n",
        "        self.conv1 = nn.Conv2d(1, 32, kernel_size=3, padding=1) #слой с 1 входным каналом, 32 выходными каналами\n",
        "        self.conv2 = nn.Conv2d(32, 64, kernel_size=3, padding=1)\n",
        "        self.pool = nn.MaxPool2d(2, 2) # помогает уменьшить размерность данных, уменьшить вычислительные затраты и предотвратить переобучение\n",
        "        self.dropout1 = nn.Dropout2d(0.25) #создает слой исключения с вероятностью 0.25. Исключение — это метод регуляризации, который случайным образом исключает некоторые нейроны во время обучения, что помогает снизить переобучение\n",
        "        self.dropout2 = nn.Dropout2d(0.5) #аналогично только вероятность 0.5\n",
        "        self.fc1 = nn.Linear(64 * 7 * 7, 128)\n",
        "        self.fc2 = nn.Linear(128, 10)\n",
        "\n",
        "    def forward(self, x):  #принимает входной сигнал x и применяет ряд операций, определенных слоями в методе __init__.\n",
        "        x = self.pool(F.relu(self.conv1(x)))\n",
        "        x = self.dropout1(x)\n",
        "        x = self.pool(F.relu(self.conv2(x)))\n",
        "        x = self.dropout2(x)\n",
        "        x = x.view(-1, 64 * 7 * 7)\n",
        "        x = F.relu(self.fc1(x))\n",
        "        x = self.fc2(x)\n",
        "        return x"
      ]
    },
    {
      "cell_type": "code",
      "execution_count": null,
      "metadata": {
        "colab": {
          "base_uri": "https://localhost:8080/"
        },
        "id": "7lmjp2G5wnqa",
        "outputId": "8ec61db8-d55e-4c2a-c712-272fec99b39f"
      },
      "outputs": [
        {
          "data": {
            "text/plain": [
              "device(type='cpu')"
            ]
          },
          "execution_count": 10,
          "metadata": {},
          "output_type": "execute_result"
        }
      ],
      "source": []
    },
    {
      "cell_type": "code",
      "execution_count": null,
      "metadata": {
        "colab": {
          "base_uri": "https://localhost:8080/"
        },
        "id": "9quitQ94wsHG",
        "outputId": "b00b87a3-a716-4919-e018-e324e04a93f4"
      },
      "outputs": [
        {
          "name": "stdout",
          "output_type": "stream",
          "text": [
            "----------------------------------------------------------------\n",
            "        Layer (type)               Output Shape         Param #\n",
            "================================================================\n",
            "            Conv2d-1           [-1, 32, 28, 28]             320\n",
            "         MaxPool2d-2           [-1, 32, 14, 14]               0\n",
            "         Dropout2d-3           [-1, 32, 14, 14]               0\n",
            "            Conv2d-4           [-1, 64, 14, 14]          18,496\n",
            "         MaxPool2d-5             [-1, 64, 7, 7]               0\n",
            "         Dropout2d-6             [-1, 64, 7, 7]               0\n",
            "            Linear-7                  [-1, 128]         401,536\n",
            "            Linear-8                   [-1, 10]           1,290\n",
            "================================================================\n",
            "Total params: 421,642\n",
            "Trainable params: 421,642\n",
            "Non-trainable params: 0\n",
            "----------------------------------------------------------------\n",
            "Input size (MB): 0.00\n",
            "Forward/backward pass size (MB): 0.43\n",
            "Params size (MB): 1.61\n",
            "Estimated Total Size (MB): 2.04\n",
            "----------------------------------------------------------------\n"
          ]
        }
      ],
      "source": [
        "# Создаем экземпляр модели\n",
        "model = Classifier()\n",
        "\n",
        "# Переместим модель на графический процессор\n",
        "model.to(device)\n",
        "summary(model, (1, 28, 28))"
      ]
    },
    {
      "cell_type": "code",
      "execution_count": null,
      "metadata": {
        "id": "QMYjm26HwycU"
      },
      "outputs": [],
      "source": [
        "# Определим функцию потерь и оптимизатор\n",
        "criterion = nn.CrossEntropyLoss()\n",
        "optimizer = optim.Adam(model.parameters(), lr=0.001)"
      ]
    },
    {
      "cell_type": "code",
      "execution_count": null,
      "metadata": {
        "collapsed": true,
        "id": "U1FhkO6Pw0fe"
      },
      "outputs": [],
      "source": [
        "batch_size = 100\n",
        "num_epochs = 10\n",
        "val_percent = 0.2 # процент данных, использованных для проверки\n",
        "val_size = int(val_percent * len(train_dataset))\n",
        "train_size = len(train_dataset) - val_size\n",
        "train_dataset, val_dataset = torch.utils.data.random_split(train_dataset, [train_size, val_size])\n",
        "\n",
        "train_loader = torch.utils.data.DataLoader(train_dataset, batch_size=batch_size, shuffle=True, pin_memory=True)\n",
        "val_loader = torch.utils.data.DataLoader(val_dataset, batch_size=batch_size, shuffle=False, pin_memory=True)\n",
        "losses = []\n",
        "accuracies = []\n",
        "val_losses = []\n",
        "val_accuracies = []"
      ]
    },
    {
      "cell_type": "code",
      "execution_count": null,
      "metadata": {
        "colab": {
          "background_save": true,
          "base_uri": "https://localhost:8080/"
        },
        "id": "wzNI7LxmPaTE",
        "outputId": "0a3cb603-b96e-4f18-d0d3-8eb419420158"
      },
      "outputs": [
        {
          "name": "stdout",
          "output_type": "stream",
          "text": [
            "Epoch [1/10],Loss:0.2653,Validation Loss:12.2157,Accuracy:0.95,Validation Accuracy:0.98\n",
            "Epoch [2/10],Loss:0.2834,Validation Loss:8.5202,Accuracy:0.97,Validation Accuracy:0.98\n",
            "Epoch [3/10],Loss:0.2194,Validation Loss:6.7151,Accuracy:0.96,Validation Accuracy:0.95\n",
            "Epoch [4/10],Loss:0.1373,Validation Loss:5.2936,Accuracy:0.99,Validation Accuracy:0.98\n",
            "Epoch [5/10],Loss:0.1597,Validation Loss:5.1467,Accuracy:0.99,Validation Accuracy:0.98\n",
            "Epoch [6/10],Loss:0.2147,Validation Loss:5.5634,Accuracy:0.99,Validation Accuracy:0.98\n",
            "Epoch [7/10],Loss:0.1073,Validation Loss:4.8308,Accuracy:0.99,Validation Accuracy:0.98\n",
            "Epoch [8/10],Loss:0.0294,Validation Loss:3.9383,Accuracy:1.00,Validation Accuracy:0.98\n",
            "Epoch [9/10],Loss:0.0314,Validation Loss:4.6499,Accuracy:1.00,Validation Accuracy:0.98\n",
            "Epoch [10/10],Loss:0.2402,Validation Loss:4.4777,Accuracy:0.99,Validation Accuracy:0.98\n"
          ]
        }
      ],
      "source": [
        "# Обучаем модель\n",
        "for epoch in range(num_epochs):\n",
        "    for i, (images, labels) in enumerate(train_loader):\n",
        "        images = images.to(device)\n",
        "        labels = labels.to(device)\n",
        "        outputs = model(images)\n",
        "        loss = criterion(outputs, labels)\n",
        "        optimizer.zero_grad()\n",
        "        loss.backward()\n",
        "        optimizer.step()\n",
        "\n",
        "        _, predicted = torch.max(outputs.data, 1)\n",
        "    acc = (predicted == labels).sum().item() / labels.size(0)\n",
        "    accuracies.append(acc)\n",
        "    losses.append(loss.item())\n",
        "    val_loss = 0.0\n",
        "    val_acc = 0.0\n",
        "    with torch.no_grad():\n",
        "        for images, labels in val_loader:\n",
        "            labels = labels.to(device)\n",
        "            images = images.to(device)\n",
        "            outputs = model(images)\n",
        "            loss = criterion(outputs, labels)\n",
        "            val_loss += loss.item()\n",
        "            _, predicted = torch.max(outputs.data, 1)\n",
        "        total = labels.size(0)\n",
        "        correct = (predicted == labels).sum().item()\n",
        "        val_acc += correct / total\n",
        "        val_accuracies.append(acc)\n",
        "        val_losses.append(loss.item())\n",
        "\n",
        "\n",
        "    print('Epoch [{}/{}],Loss:{:.4f},Validation Loss:{:.4f},Accuracy:{:.2f},Validation Accuracy:{:.2f}'.format(epoch+1, num_epochs, loss.item(), val_loss, acc ,val_acc))"
      ]
    },
    {
      "cell_type": "code",
      "execution_count": 27,
      "metadata": {
        "id": "FbjFZk9nJT73"
      },
      "outputs": [],
      "source": [
        "# скачаем набор картинок для проверки\n",
        "test_loader = torch.utils.data.DataLoader(test_dataset, batch_size=batch_size, shuffle=False)\n"
      ]
    }
  ],
  "metadata": {
    "colab": {
      "provenance": [],
      "authorship_tag": "ABX9TyPOZ8Z5Z+ASSYUhSqUSauJX",
      "include_colab_link": true
    },
    "kernelspec": {
      "display_name": "Python 3",
      "name": "python3"
    },
    "language_info": {
      "name": "python"
    }
  },
  "nbformat": 4,
  "nbformat_minor": 0
}